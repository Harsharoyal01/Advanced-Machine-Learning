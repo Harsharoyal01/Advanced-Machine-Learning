{
 "cells": [
  {
   "cell_type": "markdown",
   "id": "759a2203",
   "metadata": {},
   "source": [
    "Gandhodi Harsha Vardhan -20BTRCD007"
   ]
  },
  {
   "cell_type": "code",
   "execution_count": 2,
   "id": "41e61aec-e4fa-4985-8452-0be42c5464ca",
   "metadata": {},
   "outputs": [
    {
     "name": "stdout",
     "output_type": "stream",
     "text": [
      "Hey Greetings of the day.\n",
      "i am specialized in prescribing medicines.\n"
     ]
    },
    {
     "name": "stdin",
     "output_type": "stream",
     "text": [
      "How can i help you? am having headache.\n"
     ]
    },
    {
     "name": "stdout",
     "output_type": "stream",
     "text": [
      "am having headache.\n"
     ]
    }
   ],
   "source": [
    "def agent():\n",
    "    print(\"Hey Greetings of the day.\")\n",
    "    print(\"i am specialized in prescribing medicines.\")  \n",
    "    symptom=input(\"How can i help you?\")\n",
    "    print(symptom)\n",
    "    medicine(symptom)\n",
    "agent()"
   ]
  },
  {
   "cell_type": "code",
   "execution_count": null,
   "id": "5d8cc562-0d46-4f02-9883-637df641a216",
   "metadata": {},
   "outputs": [],
   "source": [
    "#time module- actual time"
   ]
  },
  {
   "cell_type": "code",
   "execution_count": 6,
   "id": "d85a5e42-e0d5-484b-8e84-d82da4973fbe",
   "metadata": {},
   "outputs": [
    {
     "name": "stdout",
     "output_type": "stream",
     "text": [
      "headache\n"
     ]
    }
   ],
   "source": [
    "def medicine(symptom):\n",
    "    \"\"\" \n",
    "        this module will act as database of medicines.\n",
    "    \"\"\"\n",
    "    medicine={\n",
    "        \"headache\":\"parcetmol\",\n",
    "        \"cough\": \"Dolo\",\n",
    "        \"fever\":\"dolo\"\n",
    "    }\n",
    "    for i in medicine.keys():\n",
    "        if i == symptom:\n",
    "            print(i)\n",
    "medicine(\"headache\")       "
   ]
  },
  {
   "cell_type": "code",
   "execution_count": null,
   "id": "b74e570a-fb5b-4997-8199-b5c355d805fa",
   "metadata": {},
   "outputs": [],
   "source": []
  }
 ],
 "metadata": {
  "kernelspec": {
   "display_name": "Python 3 (ipykernel)",
   "language": "python",
   "name": "python3"
  },
  "language_info": {
   "codemirror_mode": {
    "name": "ipython",
    "version": 3
   },
   "file_extension": ".py",
   "mimetype": "text/x-python",
   "name": "python",
   "nbconvert_exporter": "python",
   "pygments_lexer": "ipython3",
   "version": "3.9.12"
  }
 },
 "nbformat": 4,
 "nbformat_minor": 5
}
